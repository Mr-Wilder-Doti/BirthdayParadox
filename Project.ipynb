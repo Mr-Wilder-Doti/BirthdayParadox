{
 "cells": [
  {
   "cell_type": "code",
   "execution_count": 49,
   "metadata": {},
   "outputs": [],
   "source": [
    "#Recebe a quantidade de aniversariantes\n",
    "aniversariantes = int(input(\"Quantos são os aniversariantes?\"))\n",
    "total_simulacoes = int(input(\"Quantas simulações serão realizadas?\"))"
   ]
  },
  {
   "cell_type": "code",
   "execution_count": 50,
   "metadata": {},
   "outputs": [],
   "source": [
    "#Importar função randomica\n",
    "import random\n",
    "\n",
    "#Funçao para distribuir uniformemente aniversários por dias do ano\n",
    "def dist_unif (aniversariantes):\n",
    "    \n",
    "    #Dicionário com dias como chave para associar o número de aniversariantes\n",
    "    aniversariantes_por_dia = {dia: 0 for dia in range (1,366)}\n",
    "\n",
    "    #Associa aleatoriamente aniversariantes ao dias\n",
    "    for pessoas in range(aniversariantes):\n",
    "        dia = random.randint(1,365)\n",
    "        aniversariantes_por_dia[dia] += 1\n",
    "\n",
    "    return aniversariantes_por_dia"
   ]
  },
  {
   "cell_type": "code",
   "execution_count": 51,
   "metadata": {},
   "outputs": [
    {
     "name": "stdout",
     "output_type": "stream",
     "text": [
      "60.09 % das simulações tem casos de 2 ou mais aniversariantes no mesmo dia\n"
     ]
    }
   ],
   "source": [
    "#Simula a função  distribuição de acordo com a quantidade desejada e imprime o % de simulações com caos de 2 ou mais aniversariantes no mesmo dia\n",
    "simulacoes_mais_2pessoas = 0\n",
    "for simula in range(total_simulacoes):\n",
    "    dist_niver = dist_unif (aniversariantes)\n",
    "    dias_mais_2pessoas = sum(1 for pessoas in dist_niver.values() if pessoas > 1)\n",
    "    if dias_mais_2pessoas > 0:\n",
    "        simulacoes_mais_2pessoas += 1\n",
    "\n",
    "print(f\"{((simulacoes_mais_2pessoas/total_simulacoes) * 100):.2f} % das simulações tem casos de 2 ou mais aniversariantes no mesmo dia\")"
   ]
  }
 ],
 "metadata": {
  "kernelspec": {
   "display_name": "vsconda",
   "language": "python",
   "name": "python3"
  },
  "language_info": {
   "codemirror_mode": {
    "name": "ipython",
    "version": 3
   },
   "file_extension": ".py",
   "mimetype": "text/x-python",
   "name": "python",
   "nbconvert_exporter": "python",
   "pygments_lexer": "ipython3",
   "version": "3.9.18"
  }
 },
 "nbformat": 4,
 "nbformat_minor": 2
}
